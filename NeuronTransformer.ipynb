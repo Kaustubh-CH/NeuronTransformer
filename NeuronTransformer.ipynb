{
 "cells": [
  {
   "cell_type": "code",
   "execution_count": 1,
   "metadata": {
    "id": "xQRGbP4Tib3T"
   },
   "outputs": [],
   "source": [
    "#To get the data.\n",
    "from toolbox.Dataloader_H5 import Dataset_h5_neuronInverter\n",
    "import os"
   ]
  },
  {
   "cell_type": "markdown",
   "metadata": {
    "id": "sh54K4VqoyAY"
   },
   "source": [
    "world_rank?\n",
    "**name**\n",
    "shuffle\n",
    "**myRank**\n",
    "**numSamplesPerH5**\n",
    "**dataPath**\n",
    "local_batch_size\n",
    "h5name\n",
    "domain - Train,Valid,Test\n",
    "**max_glob_samples_per_epoch**\n",
    "world_size\n",
    "probs_select\n",
    "stims_select"
   ]
  },
  {
   "cell_type": "code",
   "execution_count": 2,
   "metadata": {
    "id": "HZfO1q1NqhZg"
   },
   "outputs": [
    {
     "ename": "KeyError",
     "evalue": "'OMPI_COMM_WORLD_SIZE'",
     "output_type": "error",
     "traceback": [
      "\u001b[0;31m---------------------------------------------------------------------------\u001b[0m",
      "\u001b[0;31mKeyError\u001b[0m                                  Traceback (most recent call last)",
      "Input \u001b[0;32mIn [2]\u001b[0m, in \u001b[0;36m<module>\u001b[0;34m\u001b[0m\n\u001b[1;32m      1\u001b[0m conf\u001b[38;5;241m=\u001b[39m{\n\u001b[1;32m      2\u001b[0m     \u001b[38;5;124m'\u001b[39m\u001b[38;5;124mdomain\u001b[39m\u001b[38;5;124m'\u001b[39m:\u001b[38;5;124m'\u001b[39m\u001b[38;5;124mtrain\u001b[39m\u001b[38;5;124m'\u001b[39m\n\u001b[1;32m      3\u001b[0m     \n\u001b[1;32m      4\u001b[0m }\n\u001b[1;32m      5\u001b[0m conf[\u001b[38;5;124m'\u001b[39m\u001b[38;5;124mworld_rank\u001b[39m\u001b[38;5;124m'\u001b[39m]\u001b[38;5;241m=\u001b[39m\u001b[38;5;241m0\u001b[39m\n\u001b[0;32m----> 6\u001b[0m conf[\u001b[38;5;124m'\u001b[39m\u001b[38;5;124mworld_size\u001b[39m\u001b[38;5;124m'\u001b[39m]\u001b[38;5;241m=\u001b[39m\u001b[43mos\u001b[49m\u001b[38;5;241;43m.\u001b[39;49m\u001b[43menviron\u001b[49m\u001b[43m[\u001b[49m\u001b[38;5;124;43m'\u001b[39;49m\u001b[38;5;124;43mOMPI_COMM_WORLD_SIZE\u001b[39;49m\u001b[38;5;124;43m'\u001b[39;49m\u001b[43m]\u001b[49m\n\u001b[1;32m      7\u001b[0m conf[\u001b[38;5;124m'\u001b[39m\u001b[38;5;124mcell_name\u001b[39m\u001b[38;5;124m'\u001b[39m]\u001b[38;5;241m=\u001b[39m\u001b[38;5;124m\"\u001b[39m\u001b[38;5;124mL5_TTPC1cADpyr2\u001b[39m\u001b[38;5;124m\"\u001b[39m\n\u001b[1;32m      8\u001b[0m conf[\u001b[38;5;124m'\u001b[39m\u001b[38;5;124mshuffle\u001b[39m\u001b[38;5;124m'\u001b[39m]\u001b[38;5;241m=\u001b[39m\u001b[38;5;28;01mTrue\u001b[39;00m\n",
      "File \u001b[0;32m/usr/lib/python3.8/os.py:675\u001b[0m, in \u001b[0;36m_Environ.__getitem__\u001b[0;34m(self, key)\u001b[0m\n\u001b[1;32m    672\u001b[0m     value \u001b[38;5;241m=\u001b[39m \u001b[38;5;28mself\u001b[39m\u001b[38;5;241m.\u001b[39m_data[\u001b[38;5;28mself\u001b[39m\u001b[38;5;241m.\u001b[39mencodekey(key)]\n\u001b[1;32m    673\u001b[0m \u001b[38;5;28;01mexcept\u001b[39;00m \u001b[38;5;167;01mKeyError\u001b[39;00m:\n\u001b[1;32m    674\u001b[0m     \u001b[38;5;66;03m# raise KeyError with the original key value\u001b[39;00m\n\u001b[0;32m--> 675\u001b[0m     \u001b[38;5;28;01mraise\u001b[39;00m \u001b[38;5;167;01mKeyError\u001b[39;00m(key) \u001b[38;5;28;01mfrom\u001b[39;00m \u001b[38;5;28mNone\u001b[39m\n\u001b[1;32m    676\u001b[0m \u001b[38;5;28;01mreturn\u001b[39;00m \u001b[38;5;28mself\u001b[39m\u001b[38;5;241m.\u001b[39mdecodevalue(value)\n",
      "\u001b[0;31mKeyError\u001b[0m: 'OMPI_COMM_WORLD_SIZE'"
     ]
    }
   ],
   "source": [
    "conf={\n",
    "    'domain':'train'\n",
    "    \n",
    "}\n",
    "conf['world_rank']=0\n",
    "conf['world_size']=os.environ['OMPI_COMM_WORLD_SIZE']\n",
    "conf['cell_name']=\"L5_TTPC1cADpyr2\"\n",
    "conf['shuffle']=True\n",
    "conf['local_batch_size']=128\n",
    "conf['data_path']='/global/cfs/cdirs/m2043/balewski/neuronBBP3-10kHz_3pr_6stim/dec26_mlPack1/'\n",
    "conf['h5name']=os.path.join(conf['data_path'],conf['cell_name']+'.mlPack1.h5')\n",
    "conf['probs_select']=[0]\n",
    "conf['stims_select']=[0]"
   ]
  },
  {
   "cell_type": "code",
   "execution_count": null,
   "metadata": {
    "id": "RuF9copqjy8O"
   },
   "outputs": [],
   "source": [
    "class Training():\n",
    "  def __init__(self,params):\n",
    "    conf['domain']='train'\n",
    "    self.train_data=Dataset_h5_neuronInverter(conf,0)\n",
    "    conf['domain']='valid'\n",
    "    self.valid_data=Dataset_h5_neuronInverter(conf,0)\n",
    "\n",
    "  def train():\n",
    "    print(len(self.train_data))\n",
    "    \n",
    "\n",
    "\n"
   ]
  }
 ],
 "metadata": {
  "colab": {
   "provenance": []
  },
  "kernelspec": {
   "display_name": "Python 3 (ipykernel)",
   "language": "python",
   "name": "python3"
  },
  "language_info": {
   "codemirror_mode": {
    "name": "ipython",
    "version": 3
   },
   "file_extension": ".py",
   "mimetype": "text/x-python",
   "name": "python",
   "nbconvert_exporter": "python",
   "pygments_lexer": "ipython3",
   "version": "3.8.10"
  }
 },
 "nbformat": 4,
 "nbformat_minor": 1
}
